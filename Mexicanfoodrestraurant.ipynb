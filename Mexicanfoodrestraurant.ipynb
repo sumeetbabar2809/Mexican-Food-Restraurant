{
  "nbformat": 4,
  "nbformat_minor": 0,
  "metadata": {
    "colab": {
      "provenance": [],
      "authorship_tag": "ABX9TyNGhT/A9mpXiH6big2N9eoZ",
      "include_colab_link": true
    },
    "kernelspec": {
      "name": "python3",
      "display_name": "Python 3"
    },
    "language_info": {
      "name": "python"
    }
  },
  "cells": [
    {
      "cell_type": "markdown",
      "metadata": {
        "id": "view-in-github",
        "colab_type": "text"
      },
      "source": [
        "<a href=\"https://colab.research.google.com/github/sumeetbabar2809/Mexican-Food-Restraurant/blob/main/Mexicanfoodrestraurant.ipynb\" target=\"_parent\"><img src=\"https://colab.research.google.com/assets/colab-badge.svg\" alt=\"Open In Colab\"/></a>"
      ]
    },
    {
      "cell_type": "code",
      "execution_count": null,
      "metadata": {
        "id": "aEq5TOQoYwVB"
      },
      "outputs": [],
      "source": [
        "Scenario: You work at a Mexican restaurant and you need to create a program that\n",
        "takes orders from customers. However, sometimes customers might enter invalid input\n",
        "or make mistakes when ordering. To handle this situation, you need to use exception\n",
        "handling.\n",
        "\n",
        "Task: Write a program that takes the customer's order for a taco and sides. If the\n",
        "order is valid, the program will display a confirmation message and the total cost. If the\n",
        "order is not valid, the program will display an error message and ask the customer to try\n",
        "again.\n",
        "Here's an example of how the program should work:\n",
        "Welcome to the Mexican Restaurant!\n",
        "Please enter your order.\n",
        "Taco (chicken or vegetable)? chicken\n",
        "Sides (chips, salsa, or guacamole)? chips, guacamole\n",
        "Drink (coke, pepsi, or sprite)? coke\n",
        "Size (small, medium, or large)? medium\n",
        "Your order:\n",
        "Taco: chicken\n",
        "Sides: chips, guacamole\n",
        "Drink: coke\n",
        "Size: medium\n",
        "Total cost: $9.50"
      ]
    },
    {
      "cell_type": "code",
      "source": [
        "\n",
        "def calculate_total_cost(taco, sides, drink, size):\n",
        "    # Define the prices\n",
        "    taco_price = 2.50\n",
        "    side_price = 1.50\n",
        "    drink_price = 1.00\n",
        "    size_prices = {'small': 0, 'medium': 1.00, 'large': 2.00}\n",
        "\n",
        "    # Calculate the total cost\n",
        "    total_cost = (taco_price + len(sides) * side_price + drink_price + size_prices[size])\n",
        "\n",
        "    return total_cost\n",
        "\n",
        "\n",
        "def main():\n",
        "    print(\"Welcome to the Mexican Restaurant!\")\n",
        "\n",
        "    try:\n",
        "        # Get user input for the order\n",
        "        taco = input(\"Taco (chicken or vegetable)? \").lower()\n",
        "        sides = input(\"Sides (chips, salsa, or guacamole)? \").lower().split(', ')\n",
        "        drink = input(\"Drink (coke, pepsi, or sprite)? \").lower()\n",
        "        size = input(\"Size (small, medium, or large)? \").lower()\n",
        "\n",
        "        # Validate user input\n",
        "        if taco not in ['chicken', 'vegetable'] or not all(side in ['chips', 'salsa', 'guacamole'] for side in sides) \\\n",
        "                or drink not in ['coke', 'pepsi', 'sprite'] or size not in ['small', 'medium', 'large']:\n",
        "            raise ValueError(\"Invalid input. Please try again.\")\n",
        "\n",
        "        # Display the order confirmation\n",
        "        print(\"\\nYour order:\")\n",
        "        print(f\"Taco: {taco}\")\n",
        "        print(f\"Sides: {', '.join(sides)}\")\n",
        "        print(f\"Drink: {drink}\")\n",
        "        print(f\"Size: {size.capitalize()}\")\n",
        "\n",
        "        # Calculate and display the total cost\n",
        "        total_cost = calculate_total_cost(taco, sides, drink, size)\n",
        "        print(f\"Total cost: ${total_cost:.2f}\")\n",
        "\n",
        "    except ValueError as e:\n",
        "        print(f\"Error: {e}. Please try again.\")\n",
        "\n",
        "\n",
        "if __name__ == \"__main__\":\n",
        "    main()"
      ],
      "metadata": {
        "colab": {
          "base_uri": "https://localhost:8080/"
        },
        "id": "nH9A0KjyY2v0",
        "outputId": "02134739-dacf-4ce5-ff5b-726a2367f4f7"
      },
      "execution_count": null,
      "outputs": [
        {
          "output_type": "stream",
          "name": "stdout",
          "text": [
            "Welcome to the Mexican Restaurant!\n",
            "Taco (chicken or vegetable)? Chicken\n",
            "Sides (chips, salsa, or guacamole)? Salsa\n",
            "Drink (coke, pepsi, or sprite)? Sprite\n",
            "Size (small, medium, or large)? Large\n",
            "\n",
            "Your order:\n",
            "Taco: chicken\n",
            "Sides: salsa\n",
            "Drink: sprite\n",
            "Size: Large\n",
            "Total cost: $7.00\n"
          ]
        }
      ]
    }
  ]
}